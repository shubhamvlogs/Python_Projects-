{
 "cells": [
  {
   "cell_type": "code",
   "execution_count": 11,
   "metadata": {},
   "outputs": [
    {
     "name": "stdout",
     "output_type": "stream",
     "text": [
      "Choose character set for password from these :\n",
      "\t\t1. Digits\n",
      "\t\t2. Letters\n",
      "\t\t3. Special characters\n",
      "\t\t4. Exit\n",
      "The random password generated  is luOUtShZYTOHgZMa\n"
     ]
    }
   ],
   "source": [
    "import string\n",
    "import random\n",
    "\n",
    "# Getting password length\n",
    "length = int(input(\"Enter password length: \"))\n",
    "\n",
    "print('''Choose character set for password from these :\n",
    "\t\t1. Digits\n",
    "\t\t2. Letters\n",
    "\t\t3. Special characters\n",
    "\t\t4. Exit''')\n",
    "\n",
    "# Getting character set for password\n",
    "characterList = \"\"\n",
    "while(True):\n",
    "\tchoice = int(input(\"Pick a number \"))\n",
    "\tif(choice == 1):\n",
    "\t\t\n",
    "\t\t# Adding digits to possible characters\n",
    "\t\tcharacterList += string.digits\n",
    "\telif(choice == 2):\n",
    "\t\t\n",
    "\t\t# Adding letters to possible characters\n",
    "\t\tcharacterList += string.ascii_letters\n",
    "\telif(choice == 3):\n",
    "\t\t\n",
    "\t\t# Adding special characters to possible\n",
    "\t\t# characters\n",
    "\t\tcharacterList += string.punctuation\n",
    "\telif(choice == 4):\n",
    "\t\tbreak\n",
    "\telse:\n",
    "\t\tprint(\"Please pick a valid option!\")\n",
    "\n",
    "# Check if the character list is empty\n",
    "if not characterList:\n",
    "    print(\"You must select at least one character set!\")\n",
    "else:\n",
    "    # Generating the password\n",
    "    password = []\n",
    "    for i in range(length):\n",
    "    \n",
    "        # Picking a random character from our\n",
    "        # character list\n",
    "        randomchar = random.choice(characterList)\n",
    "        \n",
    "        # appending a random character to password\n",
    "        password.append(randomchar)\n",
    "    \n",
    "    # printing password as a string\n",
    "    print(\"The random password generated  is \" + \"\".join(password))\n"
   ]
  },
  {
   "cell_type": "code",
   "execution_count": null,
   "metadata": {},
   "outputs": [],
   "source": []
  }
 ],
 "metadata": {
  "kernelspec": {
   "display_name": "Python 3",
   "language": "python",
   "name": "python3"
  },
  "language_info": {
   "codemirror_mode": {
    "name": "ipython",
    "version": 3
   },
   "file_extension": ".py",
   "mimetype": "text/x-python",
   "name": "python",
   "nbconvert_exporter": "python",
   "pygments_lexer": "ipython3",
   "version": "3.11.1"
  },
  "orig_nbformat": 4
 },
 "nbformat": 4,
 "nbformat_minor": 2
}
